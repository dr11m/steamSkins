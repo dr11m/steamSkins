{
 "cells": [
  {
   "cell_type": "code",
   "execution_count": 3,
   "id": "cac23324-ce9e-425b-b6bc-1392a60f5926",
   "metadata": {},
   "outputs": [],
   "source": [
    "import pandas as pd\n",
    "import numpy as np\n",
    "import seaborn as sns\n",
    "import matplotlib.pyplot as plt\n",
    "import mysql.connector"
   ]
  },
  {
   "cell_type": "code",
   "execution_count": 7,
   "id": "a9f6f506-3d61-4559-b8fe-700fa23921ba",
   "metadata": {},
   "outputs": [
    {
     "name": "stdout",
     "output_type": "stream",
     "text": [
      "3555\n"
     ]
    },
    {
     "data": {
      "text/html": [
       "<div>\n",
       "<style scoped>\n",
       "    .dataframe tbody tr th:only-of-type {\n",
       "        vertical-align: middle;\n",
       "    }\n",
       "\n",
       "    .dataframe tbody tr th {\n",
       "        vertical-align: top;\n",
       "    }\n",
       "\n",
       "    .dataframe thead th {\n",
       "        text-align: right;\n",
       "    }\n",
       "</style>\n",
       "<table border=\"1\" class=\"dataframe\">\n",
       "  <thead>\n",
       "    <tr style=\"text-align: right;\">\n",
       "      <th></th>\n",
       "      <th>name</th>\n",
       "      <th>price</th>\n",
       "      <th>sticker_name</th>\n",
       "      <th>sticker_price</th>\n",
       "    </tr>\n",
       "    <tr>\n",
       "      <th>imdex_collumn</th>\n",
       "      <th></th>\n",
       "      <th></th>\n",
       "      <th></th>\n",
       "      <th></th>\n",
       "    </tr>\n",
       "  </thead>\n",
       "  <tbody>\n",
       "    <tr>\n",
       "      <th>0</th>\n",
       "      <td>StatTrak™ MAC-10 | Carnivore (Minimal Wear)</td>\n",
       "      <td>0.5</td>\n",
       "      <td>Sticker | Heroic | 2020 RMR</td>\n",
       "      <td>0</td>\n",
       "    </tr>\n",
       "    <tr>\n",
       "      <th>1</th>\n",
       "      <td>StatTrak™ SG 553 | Atlas (Well-Worn)</td>\n",
       "      <td>0.5</td>\n",
       "      <td>Sticker | Gratisfaction | Berlin 2019</td>\n",
       "      <td>0</td>\n",
       "    </tr>\n",
       "    <tr>\n",
       "      <th>2</th>\n",
       "      <td>SG 553 | Darkwing (Well-Worn)</td>\n",
       "      <td>0.5</td>\n",
       "      <td>Sticker | Manticore</td>\n",
       "      <td>0</td>\n",
       "    </tr>\n",
       "    <tr>\n",
       "      <th>3</th>\n",
       "      <td>SG 553 | Darkwing (Well-Worn)</td>\n",
       "      <td>0.5</td>\n",
       "      <td>Sticker | 100 Thieves | 2020 RMR</td>\n",
       "      <td>0</td>\n",
       "    </tr>\n",
       "    <tr>\n",
       "      <th>4</th>\n",
       "      <td>AK-47 | Uncharted (Battle-Scarred)</td>\n",
       "      <td>0.5</td>\n",
       "      <td>Sticker | Broken Fang</td>\n",
       "      <td>0</td>\n",
       "    </tr>\n",
       "  </tbody>\n",
       "</table>\n",
       "</div>"
      ],
      "text/plain": [
       "                                                      name  price  \\\n",
       "imdex_collumn                                                       \n",
       "0              StatTrak™ MAC-10 | Carnivore (Minimal Wear)    0.5   \n",
       "1                     StatTrak™ SG 553 | Atlas (Well-Worn)    0.5   \n",
       "2                            SG 553 | Darkwing (Well-Worn)    0.5   \n",
       "3                            SG 553 | Darkwing (Well-Worn)    0.5   \n",
       "4                       AK-47 | Uncharted (Battle-Scarred)    0.5   \n",
       "\n",
       "                                        sticker_name sticker_price  \n",
       "imdex_collumn                                                       \n",
       "0                        Sticker | Heroic | 2020 RMR             0  \n",
       "1              Sticker | Gratisfaction | Berlin 2019             0  \n",
       "2                                Sticker | Manticore             0  \n",
       "3                   Sticker | 100 Thieves | 2020 RMR             0  \n",
       "4                              Sticker | Broken Fang             0  "
      ]
     },
     "execution_count": 7,
     "metadata": {},
     "output_type": "execute_result"
    }
   ],
   "source": [
    "\n",
    "mycursor.execute(\"SELECT name, price, sticker_pos4 FROM `csMoneyStickers`\")\n",
    "response = mycursor.fetchall()\n",
    "\n",
    "del response[0]\n",
    "del response[0]\n",
    "del response[0]\n",
    "del response[0]\n",
    "\n",
    "list_of_items = []\n",
    "index = -1\n",
    "for item in response:\n",
    "    if item[2] == \"0\":\n",
    "        continue\n",
    "    sticker_name_and_price = item[2].split(\",\")\n",
    "    sticker_name = sticker_name_and_price[0]\n",
    "    sticker_price = sticker_name_and_price[1]\n",
    "    one_item_list = []\n",
    "    one_item_list.append(item[0])\n",
    "    one_item_list.append(float(item[1]))\n",
    "    one_item_list.append(sticker_name)\n",
    "    one_item_list.append(sticker_price)\n",
    "    list_of_items.append(one_item_list)\n",
    "    \n",
    "\n",
    "data = pd.DataFrame(list_of_items, columns =['name', 'price', \"sticker_name\", \"sticker_price\"])\n",
    "data.index.name='imdex_collumn'\n",
    "\n",
    "#data.loc[2,\"float_value\"]=0.05\n",
    "#data.loc[12,\"float_value\"]=0.033\n",
    "\n",
    "print(len(data))\n",
    "data.head()"
   ]
  },
  {
   "cell_type": "code",
   "execution_count": 11,
   "id": "619d205c-39dd-42d0-80b4-b44eb5406fbf",
   "metadata": {},
   "outputs": [],
   "source": [
    "from sklearn.preprocessing import LabelEncoder\n"
   ]
  },
  {
   "cell_type": "code",
   "execution_count": 19,
   "id": "4065e6eb-ce23-40a7-b5a3-709581f0141e",
   "metadata": {},
   "outputs": [],
   "source": [
    "sticker=LabelEncoder()\n",
    "df = np.array(data)"
   ]
  },
  {
   "cell_type": "code",
   "execution_count": 20,
   "id": "2849eeeb-28da-40ac-b71d-ade69cbb777f",
   "metadata": {},
   "outputs": [],
   "source": [
    "df[:,0]=sticker.fit_transform(df[:,0])"
   ]
  },
  {
   "cell_type": "code",
   "execution_count": 22,
   "id": "3b1de6a4-8550-4fb6-a164-9d64585a4754",
   "metadata": {},
   "outputs": [],
   "source": [
    "df[:,2]=sticker.fit_transform(df[:,2])"
   ]
  },
  {
   "cell_type": "code",
   "execution_count": 23,
   "id": "d12c36ad-7d07-4ae4-9821-aae93e32003e",
   "metadata": {},
   "outputs": [
    {
     "data": {
      "text/plain": [
       "array([[889, 0.5, 409, '0'],\n",
       "       [1034, 0.5, 357, '0'],\n",
       "       [605, 0.5, 510, '0'],\n",
       "       ...,\n",
       "       [40, 20.64, 43, '0.10'],\n",
       "       [0, 20.65, 378, '0.10'],\n",
       "       [1209, 3.02, 263, '0.50']], dtype=object)"
      ]
     },
     "execution_count": 23,
     "metadata": {},
     "output_type": "execute_result"
    }
   ],
   "source": [
    "df"
   ]
  },
  {
   "cell_type": "code",
   "execution_count": 24,
   "id": "928208f2-8bd9-466c-a38a-c779d78901d8",
   "metadata": {},
   "outputs": [],
   "source": [
    "X = df[:, :-1]\n",
    "y = df[:, -1]\n",
    "#y=y.astype('float')"
   ]
  },
  {
   "cell_type": "code",
   "execution_count": 25,
   "id": "ec81b192-3b3b-457a-bd56-9f7197d1b0fc",
   "metadata": {},
   "outputs": [],
   "source": [
    "from sklearn.model_selection import train_test_split\n",
    "X_train, X_test, y_train, y_test = train_test_split(X, y, test_size = 0.25, random_state = 0)"
   ]
  },
  {
   "cell_type": "code",
   "execution_count": 26,
   "id": "bec0959d-ba47-417e-971e-e7d4d4ae0013",
   "metadata": {},
   "outputs": [],
   "source": [
    "from sklearn.preprocessing import StandardScaler\n",
    "sc = StandardScaler()\n",
    "X_train = sc.fit_transform(X_train)\n",
    "X_test = sc.transform(X_test)"
   ]
  },
  {
   "cell_type": "code",
   "execution_count": 27,
   "id": "04a90314-32a9-49e6-8943-6a52b082ac5f",
   "metadata": {},
   "outputs": [
    {
     "data": {
      "text/plain": [
       "DecisionTreeClassifier(criterion='entropy', random_state=0)"
      ]
     },
     "execution_count": 27,
     "metadata": {},
     "output_type": "execute_result"
    }
   ],
   "source": [
    "from sklearn.tree import DecisionTreeClassifier\n",
    "classifier = DecisionTreeClassifier(criterion = 'entropy', random_state = 0)\n",
    "classifier.fit(X_train, y_train)"
   ]
  },
  {
   "cell_type": "code",
   "execution_count": null,
   "id": "06cde122-fa96-4307-84ce-a666b3a4f24d",
   "metadata": {},
   "outputs": [],
   "source": [
    "print(classifier.predict(sc.transform([[1209, 3.02,409]])))"
   ]
  }
 ],
 "metadata": {
  "kernelspec": {
   "display_name": "Python 3 (ipykernel)",
   "language": "python",
   "name": "python3"
  },
  "language_info": {
   "codemirror_mode": {
    "name": "ipython",
    "version": 3
   },
   "file_extension": ".py",
   "mimetype": "text/x-python",
   "name": "python",
   "nbconvert_exporter": "python",
   "pygments_lexer": "ipython3",
   "version": "3.7.0"
  }
 },
 "nbformat": 4,
 "nbformat_minor": 5
}
